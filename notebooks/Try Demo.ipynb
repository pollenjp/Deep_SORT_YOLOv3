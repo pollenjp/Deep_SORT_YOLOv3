{
 "cells": [
  {
   "cell_type": "markdown",
   "metadata": {
    "toc": true
   },
   "source": [
    "<h1>Table of Contents<span class=\"tocSkip\"></span></h1>\n",
    "<div class=\"toc\"><ul class=\"toc-item\"><li><span><a href=\"#Config\" data-toc-modified-id=\"Config-1\"><span class=\"toc-item-num\">1&nbsp;&nbsp;</span>Config</a></span><ul class=\"toc-item\"><li><span><a href=\"#import\" data-toc-modified-id=\"import-1.1\"><span class=\"toc-item-num\">1.1&nbsp;&nbsp;</span>import</a></span></li><li><span><a href=\"#Path\" data-toc-modified-id=\"Path-1.2\"><span class=\"toc-item-num\">1.2&nbsp;&nbsp;</span>Path</a></span></li><li><span><a href=\"#sys.path\" data-toc-modified-id=\"sys.path-1.3\"><span class=\"toc-item-num\">1.3&nbsp;&nbsp;</span>sys.path</a></span></li><li><span><a href=\"#import-from-local\" data-toc-modified-id=\"import-from-local-1.4\"><span class=\"toc-item-num\">1.4&nbsp;&nbsp;</span>import from local</a></span></li><li><span><a href=\"#video\" data-toc-modified-id=\"video-1.5\"><span class=\"toc-item-num\">1.5&nbsp;&nbsp;</span>video</a></span></li></ul></li><li><span><a href=\"#Main\" data-toc-modified-id=\"Main-2\"><span class=\"toc-item-num\">2&nbsp;&nbsp;</span>Main</a></span><ul class=\"toc-item\"><li><span><a href=\"#Definition-of-the-parameters\" data-toc-modified-id=\"Definition-of-the-parameters-2.1\"><span class=\"toc-item-num\">2.1&nbsp;&nbsp;</span>Definition of the parameters</a></span></li><li><span><a href=\"#Get-Video\" data-toc-modified-id=\"Get-Video-2.2\"><span class=\"toc-item-num\">2.2&nbsp;&nbsp;</span>Get Video</a></span></li><li><span><a href=\"#Load-YOLO\" data-toc-modified-id=\"Load-YOLO-2.3\"><span class=\"toc-item-num\">2.3&nbsp;&nbsp;</span>Load YOLO</a></span></li><li><span><a href=\"#Log-Preprocess\" data-toc-modified-id=\"Log-Preprocess-2.4\"><span class=\"toc-item-num\">2.4&nbsp;&nbsp;</span>Log Preprocess</a></span></li><li><span><a href=\"#while-loop\" data-toc-modified-id=\"while-loop-2.5\"><span class=\"toc-item-num\">2.5&nbsp;&nbsp;</span>while loop</a></span></li></ul></li><li><span><a href=\"#END\" data-toc-modified-id=\"END-3\"><span class=\"toc-item-num\">3&nbsp;&nbsp;</span>END</a></span></li></ul></div>"
   ]
  },
  {
   "cell_type": "markdown",
   "metadata": {},
   "source": [
    "## Config"
   ]
  },
  {
   "cell_type": "markdown",
   "metadata": {},
   "source": [
    "### import"
   ]
  },
  {
   "cell_type": "code",
   "execution_count": 39,
   "metadata": {
    "ExecuteTime": {
     "end_time": "2019-03-20T08:44:52.263710Z",
     "start_time": "2019-03-20T08:44:52.255174Z"
    }
   },
   "outputs": [
    {
     "name": "stdout",
     "output_type": "stream",
     "text": [
      "cv2.__version__ : 3.4.4\n"
     ]
    }
   ],
   "source": [
    "import os\n",
    "import sys\n",
    "import pathlib\n",
    "import re\n",
    "import pprint\n",
    "import time\n",
    "\n",
    "import numpy as np\n",
    "import cv2\n",
    "print(\"cv2.__version__ : {}\".format(cv2.__version__))"
   ]
  },
  {
   "cell_type": "code",
   "execution_count": 21,
   "metadata": {
    "ExecuteTime": {
     "end_time": "2019-03-20T08:26:59.530625Z",
     "start_time": "2019-03-20T08:26:59.526007Z"
    }
   },
   "outputs": [],
   "source": [
    "import timeit\n",
    "import warnings\n",
    "from PIL import Image"
   ]
  },
  {
   "cell_type": "code",
   "execution_count": 22,
   "metadata": {
    "ExecuteTime": {
     "end_time": "2019-03-20T08:26:59.539987Z",
     "start_time": "2019-03-20T08:26:59.534481Z"
    }
   },
   "outputs": [],
   "source": [
    "# tensrflow gpu\n",
    "os.environ[\"CUDA_DEVICE_ORDER\"]=\"PCI_BUS_ID\"   # see issue #152\n",
    "os.environ[\"CUDA_VISIBLE_DEVICES\"]=\"6,7\""
   ]
  },
  {
   "cell_type": "markdown",
   "metadata": {},
   "source": [
    "### Path"
   ]
  },
  {
   "cell_type": "code",
   "execution_count": 23,
   "metadata": {
    "ExecuteTime": {
     "end_time": "2019-03-20T08:26:59.629109Z",
     "start_time": "2019-03-20T08:26:59.621523Z"
    }
   },
   "outputs": [
    {
     "name": "stdout",
     "output_type": "stream",
     "text": [
      "/home/sugisaki/workdir/git/deep_sort_yolov3\n"
     ]
    }
   ],
   "source": [
    "ROOT_Path = pathlib.Path(os.getcwd()).parents[0]\n",
    "assert ROOT_Path.exists(), \"Not exists. : {}\".format(ROOT_Path)\n",
    "print(ROOT_Path)"
   ]
  },
  {
   "cell_type": "code",
   "execution_count": 24,
   "metadata": {
    "ExecuteTime": {
     "end_time": "2019-03-20T08:26:59.647716Z",
     "start_time": "2019-03-20T08:26:59.641285Z"
    }
   },
   "outputs": [
    {
     "name": "stdout",
     "output_type": "stream",
     "text": [
      "/home/sugisaki/workdir/git/ghelia_mizuho-detect-fraud/data/original/video-camera01\n"
     ]
    }
   ],
   "source": [
    "data_Path = pathlib.Path(\n",
    "    \"/home/sugisaki/workdir/git/ghelia_mizuho-detect-fraud/data/original/video-camera01\")\n",
    "assert data_Path.exists()\n",
    "print(data_Path)"
   ]
  },
  {
   "cell_type": "markdown",
   "metadata": {},
   "source": [
    "### sys.path"
   ]
  },
  {
   "cell_type": "code",
   "execution_count": 25,
   "metadata": {
    "ExecuteTime": {
     "end_time": "2019-03-20T08:26:59.717112Z",
     "start_time": "2019-03-20T08:26:59.711820Z"
    }
   },
   "outputs": [],
   "source": [
    "sys.path.append(str(ROOT_Path))"
   ]
  },
  {
   "cell_type": "markdown",
   "metadata": {},
   "source": [
    "### import from local"
   ]
  },
  {
   "cell_type": "code",
   "execution_count": 26,
   "metadata": {
    "ExecuteTime": {
     "end_time": "2019-03-20T08:26:59.775793Z",
     "start_time": "2019-03-20T08:26:59.769860Z"
    }
   },
   "outputs": [],
   "source": [
    "import yolo\n",
    "\n",
    "from deep_sort import preprocessing\n",
    "from deep_sort import nn_matching\n",
    "from deep_sort import detection\n",
    "from deep_sort import tracker\n",
    "\n",
    "from tools import generate_detections"
   ]
  },
  {
   "cell_type": "markdown",
   "metadata": {},
   "source": [
    "### video"
   ]
  },
  {
   "cell_type": "code",
   "execution_count": 27,
   "metadata": {
    "ExecuteTime": {
     "end_time": "2019-03-20T08:26:59.844784Z",
     "start_time": "2019-03-20T08:26:59.834087Z"
    }
   },
   "outputs": [
    {
     "name": "stdout",
     "output_type": "stream",
     "text": [
      "['01_01_1.avi',\n",
      " '01_02_1.avi',\n",
      " '01_38_1_1.AVI',\n",
      " '01_38_1_2.AVI',\n",
      " '01_43_1_1.AVI',\n",
      " '01_43_1_2.AVI',\n",
      " '01_44_1_1.AVI',\n",
      " '01_44_1_2.AVI',\n",
      " '01_45_1_1.AVI',\n",
      " '01_45_1_2.AVI',\n",
      " '01_46_0_1.AVI',\n",
      " '01_46_0_2.AVI']\n"
     ]
    }
   ],
   "source": [
    "# `.`で始まるファイルを無視\n",
    "# ignore `.` initial filenames\n",
    "video_filename_list = [\n",
    "    name\n",
    "    for name in os.listdir(path=str(data_Path))\n",
    "    if re.search(pattern=r'^(?!.*^\\.).*',\n",
    "                 string=name,\n",
    "                 flags=re.IGNORECASE) is not None\n",
    "]\n",
    "video_filename_list = sorted(video_filename_list)\n",
    "pprint.pprint(video_filename_list)"
   ]
  },
  {
   "cell_type": "markdown",
   "metadata": {},
   "source": [
    "## Main"
   ]
  },
  {
   "cell_type": "code",
   "execution_count": 28,
   "metadata": {
    "ExecuteTime": {
     "end_time": "2019-03-20T08:26:59.899579Z",
     "start_time": "2019-03-20T08:26:59.894533Z"
    }
   },
   "outputs": [],
   "source": [
    "warnings.filterwarnings('ignore')"
   ]
  },
  {
   "cell_type": "code",
   "execution_count": 29,
   "metadata": {
    "ExecuteTime": {
     "end_time": "2019-03-20T08:26:59.908970Z",
     "start_time": "2019-03-20T08:26:59.903710Z"
    }
   },
   "outputs": [],
   "source": [
    "filepath = str(data_Path / video_filename_list[0])\n",
    "assert os.path.exists(filepath)"
   ]
  },
  {
   "cell_type": "markdown",
   "metadata": {},
   "source": [
    "### Definition of the parameters"
   ]
  },
  {
   "cell_type": "code",
   "execution_count": 30,
   "metadata": {
    "ExecuteTime": {
     "end_time": "2019-03-20T08:26:59.967028Z",
     "start_time": "2019-03-20T08:26:59.962363Z"
    }
   },
   "outputs": [],
   "source": [
    "# Definition of the parameters\n",
    "max_cosine_distance = 0.3\n",
    "nn_budget = None\n",
    "nms_max_overlap = 1.0"
   ]
  },
  {
   "cell_type": "code",
   "execution_count": 31,
   "metadata": {
    "ExecuteTime": {
     "end_time": "2019-03-20T08:27:00.267003Z",
     "start_time": "2019-03-20T08:26:59.971265Z"
    }
   },
   "outputs": [],
   "source": [
    "# deep_sort \n",
    "model_filename = str(ROOT_Path / \"model_data\" / \"mars-small128.pb\")\n",
    "encoder = \\\n",
    "    generate_detections.create_box_encoder(\n",
    "        model_filename=model_filename,\n",
    "        input_name    ='images',\n",
    "        output_name   ='features',\n",
    "        batch_size    =1)"
   ]
  },
  {
   "cell_type": "code",
   "execution_count": 32,
   "metadata": {
    "ExecuteTime": {
     "end_time": "2019-03-20T08:27:00.277968Z",
     "start_time": "2019-03-20T08:27:00.272072Z"
    }
   },
   "outputs": [],
   "source": [
    "metric = nn_matching.NearestNeighborDistanceMetric(\"cosine\", max_cosine_distance, nn_budget)\n",
    "tracker_instance = tracker.Tracker(metric)"
   ]
  },
  {
   "cell_type": "markdown",
   "metadata": {},
   "source": [
    "### Get Video"
   ]
  },
  {
   "cell_type": "code",
   "execution_count": 33,
   "metadata": {
    "ExecuteTime": {
     "end_time": "2019-03-20T08:27:00.323416Z",
     "start_time": "2019-03-20T08:27:00.284148Z"
    }
   },
   "outputs": [
    {
     "name": "stdout",
     "output_type": "stream",
     "text": [
      "frame_total_num : 239416\n"
     ]
    }
   ],
   "source": [
    "video_capture = cv2.VideoCapture(filepath)\n",
    "frame_total_num = int(video_capture.get(cv2.CAP_PROP_FRAME_COUNT))\n",
    "print(\"frame_total_num : {}\".format(frame_total_num))"
   ]
  },
  {
   "cell_type": "code",
   "execution_count": 34,
   "metadata": {
    "ExecuteTime": {
     "end_time": "2019-03-20T08:27:00.333851Z",
     "start_time": "2019-03-20T08:27:00.326612Z"
    }
   },
   "outputs": [],
   "source": [
    "writeVideo_flag = True\n",
    "if writeVideo_flag:\n",
    "# Define the codec and create VideoWriter object\n",
    "    w = int(video_capture.get(3))\n",
    "    h = int(video_capture.get(4))\n",
    "    fourcc = cv2.VideoWriter_fourcc(*'MJPG')\n",
    "    out = cv2.VideoWriter('output.avi', fourcc, 15, (w, h))\n",
    "    list_file = open('detection.txt', 'w')\n",
    "    frame_index = -1 "
   ]
  },
  {
   "cell_type": "code",
   "execution_count": 35,
   "metadata": {
    "ExecuteTime": {
     "end_time": "2019-03-20T08:27:00.339073Z",
     "start_time": "2019-03-20T08:27:00.336063Z"
    }
   },
   "outputs": [],
   "source": [
    "fps = 0.0"
   ]
  },
  {
   "cell_type": "markdown",
   "metadata": {},
   "source": [
    "### Load YOLO"
   ]
  },
  {
   "cell_type": "code",
   "execution_count": 36,
   "metadata": {
    "ExecuteTime": {
     "end_time": "2019-03-20T08:27:20.515039Z",
     "start_time": "2019-03-20T08:27:00.340794Z"
    }
   },
   "outputs": [
    {
     "name": "stdout",
     "output_type": "stream",
     "text": [
      "/home/sugisaki/workdir/git/deep_sort_yolov3/model_data/yolo.h5 model, anchors, and classes loaded.\n"
     ]
    }
   ],
   "source": [
    "yolov3 = yolo.YOLO(model_path   = str(ROOT_Path / \"model_data\" / \"yolo.h5\"),\n",
    "                   anchors_path = str(ROOT_Path / \"model_data\" / \"yolo_anchors.txt\"),\n",
    "                   classes_path = str(ROOT_Path / \"model_data\" / \"coco_classes.txt\"))"
   ]
  },
  {
   "cell_type": "markdown",
   "metadata": {},
   "source": [
    "### Log Preprocess"
   ]
  },
  {
   "cell_type": "code",
   "execution_count": 37,
   "metadata": {
    "ExecuteTime": {
     "end_time": "2019-03-20T08:27:20.527179Z",
     "start_time": "2019-03-20T08:27:20.517799Z"
    }
   },
   "outputs": [
    {
     "name": "stdout",
     "output_type": "stream",
     "text": [
      "len(log_idxes) : 997\n"
     ]
    }
   ],
   "source": [
    "log_split_len = 1000\n",
    "if frame_total_num % log_split_len == 0:\n",
    "    log_interval = frame_total_num // log_split_len\n",
    "else:\n",
    "    log_interval = (frame_total_num + log_split_len) // log_split_len\n",
    "\n",
    "log_idxes = [i for i in range(log_interval-1, frame_total_num, log_interval)]\n",
    "\n",
    "print(\"len(log_idxes) : {}\".format(len(log_idxes)))"
   ]
  },
  {
   "cell_type": "markdown",
   "metadata": {},
   "source": [
    "### while loop"
   ]
  },
  {
   "cell_type": "code",
   "execution_count": 41,
   "metadata": {
    "ExecuteTime": {
     "end_time": "2019-03-20T09:12:27.401590Z",
     "start_time": "2019-03-20T08:48:56.979816Z"
    },
    "scrolled": true
   },
   "outputs": [
    {
     "name": "stdout",
     "output_type": "stream",
     "text": [
      "===    1.0% === | frame      719/  239416| fps :    14.54 | elapsed time :  5.2e+01\n",
      "===    2.0% === | frame      959/  239416| fps :    14.28 | elapsed time :  6.9e+01\n",
      "===    3.0% === | frame     1199/  239416| fps :    14.85 | elapsed time :  8.6e+01\n",
      "===    4.0% === | frame     1439/  239416| fps :    13.83 | elapsed time :    1e+02\n",
      "===    5.0% === | frame     1679/  239416| fps :    15.16 | elapsed time :  1.2e+02\n",
      "===    6.0% === | frame     1919/  239416| fps :    14.29 | elapsed time :  1.4e+02\n",
      "===    7.0% === | frame     2159/  239416| fps :    15.43 | elapsed time :  1.5e+02\n",
      "===    8.0% === | frame     2399/  239416| fps :    14.71 | elapsed time :  1.7e+02\n",
      "===    9.0% === | frame     2639/  239416| fps :    14.15 | elapsed time :  1.9e+02\n",
      "===   10.0% === | frame     2879/  239416| fps :    14.53 | elapsed time :  2.1e+02\n",
      "===   11.0% === | frame     3119/  239416| fps :    14.78 | elapsed time :  2.2e+02\n",
      "===   12.0% === | frame     3359/  239416| fps :    14.98 | elapsed time :  2.4e+02\n",
      "===   13.0% === | frame     3599/  239416| fps :    14.74 | elapsed time :  2.6e+02\n",
      "===   14.0% === | frame     3839/  239416| fps :    14.92 | elapsed time :  2.7e+02\n",
      "===   15.0% === | frame     4079/  239416| fps :    13.89 | elapsed time :  2.9e+02\n",
      "===   16.0% === | frame     4319/  239416| fps :    14.81 | elapsed time :  3.1e+02\n",
      "===   17.0% === | frame     4559/  239416| fps :    13.72 | elapsed time :  3.3e+02\n",
      "===   18.0% === | frame     4799/  239416| fps :    13.97 | elapsed time :  3.4e+02\n",
      "===   19.0% === | frame     5039/  239416| fps :    13.75 | elapsed time :  3.6e+02\n",
      "===   20.0% === | frame     5279/  239416| fps :    13.85 | elapsed time :  3.8e+02\n",
      "===   21.0% === | frame     5519/  239416| fps :    14.36 | elapsed time :    4e+02\n",
      "===   22.0% === | frame     5759/  239416| fps :    14.08 | elapsed time :  4.1e+02\n",
      "===   23.0% === | frame     5999/  239416| fps :    13.35 | elapsed time :  4.3e+02\n",
      "===   24.0% === | frame     6239/  239416| fps :    12.85 | elapsed time :  4.5e+02\n",
      "===   25.0% === | frame     6479/  239416| fps :     13.8 | elapsed time :  4.7e+02\n",
      "===   26.0% === | frame     6719/  239416| fps :    14.67 | elapsed time :  4.8e+02\n",
      "===   27.0% === | frame     6959/  239416| fps :    13.74 | elapsed time :    5e+02\n",
      "===   28.0% === | frame     7199/  239416| fps :    13.55 | elapsed time :  5.2e+02\n",
      "===   29.0% === | frame     7439/  239416| fps :    15.06 | elapsed time :  5.4e+02\n",
      "===   30.0% === | frame     7679/  239416| fps :     15.4 | elapsed time :  5.5e+02\n",
      "===   31.0% === | frame     7919/  239416| fps :    14.59 | elapsed time :  5.7e+02\n",
      "===   32.0% === | frame     8159/  239416| fps :    14.19 | elapsed time :  5.9e+02\n",
      "===   33.0% === | frame     8399/  239416| fps :    14.11 | elapsed time :  6.1e+02\n",
      "===   34.0% === | frame     8639/  239416| fps :     14.0 | elapsed time :  6.2e+02\n",
      "===   35.0% === | frame     8879/  239416| fps :    12.57 | elapsed time :  6.4e+02\n",
      "===   36.0% === | frame     9119/  239416| fps :    14.31 | elapsed time :  6.6e+02\n",
      "===   37.0% === | frame     9359/  239416| fps :    13.65 | elapsed time :  6.8e+02\n",
      "===   38.0% === | frame     9599/  239416| fps :    13.53 | elapsed time :  6.9e+02\n",
      "===   39.0% === | frame     9839/  239416| fps :    12.55 | elapsed time :  7.1e+02\n",
      "===   40.0% === | frame    10079/  239416| fps :    14.05 | elapsed time :  7.3e+02\n",
      "===   41.0% === | frame    10319/  239416| fps :    13.77 | elapsed time :  7.5e+02\n",
      "===   42.0% === | frame    10559/  239416| fps :    13.74 | elapsed time :  7.6e+02\n",
      "===   43.0% === | frame    10799/  239416| fps :    12.46 | elapsed time :  7.8e+02\n",
      "===   44.0% === | frame    11039/  239416| fps :    12.62 | elapsed time :    8e+02\n",
      "===   45.0% === | frame    11279/  239416| fps :     14.5 | elapsed time :  8.2e+02\n",
      "===   46.0% === | frame    11519/  239416| fps :    11.47 | elapsed time :  8.4e+02\n",
      "===   47.0% === | frame    11759/  239416| fps :    15.26 | elapsed time :  8.6e+02\n",
      "===   48.0% === | frame    11999/  239416| fps :    13.79 | elapsed time :  8.8e+02\n",
      "===   49.0% === | frame    12239/  239416| fps :    13.87 | elapsed time :    9e+02\n",
      "===   50.0% === | frame    12479/  239416| fps :    13.12 | elapsed time :  9.2e+02\n",
      "===   51.0% === | frame    12719/  239416| fps :    10.74 | elapsed time :  9.3e+02\n",
      "===   52.0% === | frame    12959/  239416| fps :    14.12 | elapsed time :  9.5e+02\n",
      "===   53.0% === | frame    13199/  239416| fps :    13.58 | elapsed time :  9.7e+02\n",
      "===   54.0% === | frame    13439/  239416| fps :    13.47 | elapsed time :  9.9e+02\n",
      "===   55.0% === | frame    13679/  239416| fps :    14.59 | elapsed time :    1e+03\n",
      "===   56.0% === | frame    13919/  239416| fps :    14.45 | elapsed time :    1e+03\n",
      "===   57.0% === | frame    14159/  239416| fps :    14.39 | elapsed time :    1e+03\n",
      "===   58.0% === | frame    14399/  239416| fps :    13.68 | elapsed time :  1.1e+03\n",
      "===   59.0% === | frame    14639/  239416| fps :    14.77 | elapsed time :  1.1e+03\n",
      "===   60.0% === | frame    14879/  239416| fps :     13.6 | elapsed time :  1.1e+03\n",
      "===   61.0% === | frame    15119/  239416| fps :    14.69 | elapsed time :  1.1e+03\n",
      "===   62.0% === | frame    15359/  239416| fps :    12.25 | elapsed time :  1.1e+03\n",
      "===   63.0% === | frame    15599/  239416| fps :    14.21 | elapsed time :  1.2e+03\n",
      "===   64.0% === | frame    15839/  239416| fps :     15.1 | elapsed time :  1.2e+03\n",
      "===   65.0% === | frame    16079/  239416| fps :    14.59 | elapsed time :  1.2e+03\n",
      "===   66.0% === | frame    16319/  239416| fps :     14.6 | elapsed time :  1.2e+03\n",
      "===   67.0% === | frame    16559/  239416| fps :     14.2 | elapsed time :  1.2e+03\n",
      "===   68.0% === | frame    16799/  239416| fps :    15.45 | elapsed time :  1.2e+03\n",
      "===   69.0% === | frame    17039/  239416| fps :    13.38 | elapsed time :  1.3e+03\n",
      "===   70.0% === | frame    17279/  239416| fps :    13.92 | elapsed time :  1.3e+03\n",
      "===   71.0% === | frame    17519/  239416| fps :    14.53 | elapsed time :  1.3e+03\n",
      "===   72.0% === | frame    17759/  239416| fps :    13.45 | elapsed time :  1.3e+03\n",
      "===   73.0% === | frame    17999/  239416| fps :    13.66 | elapsed time :  1.3e+03\n",
      "===   74.0% === | frame    18239/  239416| fps :    14.73 | elapsed time :  1.3e+03\n",
      "===   75.0% === | frame    18479/  239416| fps :    14.96 | elapsed time :  1.4e+03\n",
      "===   76.0% === | frame    18719/  239416| fps :    14.11 | elapsed time :  1.4e+03\n",
      "===   77.0% === | frame    18959/  239416| fps :    14.31 | elapsed time :  1.4e+03\n",
      "===   78.0% === | frame    19199/  239416| fps :    14.68 | elapsed time :  1.4e+03\n"
     ]
    },
    {
     "ename": "ValueError",
     "evalue": "Format specifier missing precision",
     "output_type": "error",
     "traceback": [
      "\u001b[0;31m---------------------------------------------------------------------------\u001b[0m",
      "\u001b[0;31mValueError\u001b[0m                                Traceback (most recent call last)",
      "\u001b[0;32m<ipython-input-41-fba02be2bc2f>\u001b[0m in \u001b[0;36m<module>\u001b[0;34m\u001b[0m\n\u001b[1;32m     65\u001b[0m     \u001b[0;34m\"=== {:6.3}% === | frame {:8}/{:8}| fps : {:8.4} | elapsed time : {:8.}\"\u001b[0m\u001b[0;34m\u001b[0m\u001b[0m\n\u001b[1;32m     66\u001b[0m     .format(pct_progress, frame_counter, frame_total_num, fps,\n\u001b[0;32m---> 67\u001b[0;31m             elapsed_time))\n\u001b[0m\u001b[1;32m     68\u001b[0m \u001b[0;34m\u001b[0m\u001b[0m\n\u001b[1;32m     69\u001b[0m \u001b[0mvideo_capture\u001b[0m\u001b[0;34m.\u001b[0m\u001b[0mrelease\u001b[0m\u001b[0;34m(\u001b[0m\u001b[0;34m)\u001b[0m\u001b[0;34m\u001b[0m\u001b[0m\n",
      "\u001b[0;31mValueError\u001b[0m: Format specifier missing precision"
     ]
    }
   ],
   "source": [
    "#while True:\n",
    "pct_progress = 0.\n",
    "start_time = time.time()\n",
    "\n",
    "for frame_counter in range(frame_total_num):\n",
    "    ret, frame = video_capture.read()  # frame shape 640*480*3\n",
    "    if ret != True:\n",
    "        print(\"Failed video_capture.read()\")\n",
    "        break\n",
    "    t1 = timeit.time.time()\n",
    "\n",
    "    image = Image.fromarray(frame)\n",
    "    boxs = yolov3.detect_image(image)\n",
    "    # print(\"box_num\",len(boxs))\n",
    "    features = encoder(frame,boxs)\n",
    "    # score to 1.0 here).\n",
    "    detections = [\n",
    "        detection.Detection(tlwh=bbox, confidence=1.0, feature=feature)\n",
    "        for bbox, feature in zip(boxs, features)\n",
    "    ]\n",
    "    # Run non-maxima suppression.\n",
    "    boxes = np.array([d.tlwh for d in detections])\n",
    "    scores = np.array([d.confidence for d in detections])\n",
    "    indices = preprocessing.non_max_suppression(boxes, nms_max_overlap, scores)\n",
    "    detections = [detections[i] for i in indices]\n",
    "\n",
    "    # Call the tracker\n",
    "    tracker_instance.predict()\n",
    "    tracker_instance.update(detections)\n",
    "    for track in tracker_instance.tracks:\n",
    "        if not track.is_confirmed() or track.time_since_update > 1:\n",
    "            continue \n",
    "        bbox = track.to_tlbr()\n",
    "        cv2.rectangle(frame, (int(bbox[0]), int(bbox[1])), (int(bbox[2]), int(bbox[3])),(255,255,255), 2)\n",
    "        cv2.putText(frame, str(track.track_id),(int(bbox[0]), int(bbox[1])),0, 5e-3 * 200, (0,255,0),2)\n",
    "\n",
    "    for det in detections:\n",
    "        bbox = det.to_tlbr()\n",
    "        cv2.rectangle(frame,(int(bbox[0]), int(bbox[1])), (int(bbox[2]), int(bbox[3])),(255,0,0), 2)\n",
    "\n",
    "    if writeVideo_flag:\n",
    "        # save a frame\n",
    "        out.write(frame)\n",
    "        frame_index = frame_index + 1\n",
    "        list_file.write(str(frame_index)+' ')\n",
    "        if len(boxs) != 0:\n",
    "            for i in range(0,len(boxs)):\n",
    "                list_file.write(str(boxs[i][0]) + ' '+str(boxs[i][1]) + ' '+str(boxs[i][2]) + ' '+str(boxs[i][3]) + ' ')\n",
    "        list_file.write('\\n')\n",
    "\n",
    "    fps = (fps + (1./(timeit.time.time()-t1))) / 2\n",
    "\n",
    "    if frame_counter == log_idxes[0]:\n",
    "        elapsed_time = time.time() - start_time\n",
    "        pct_progress += 1\n",
    "        log_idxes.pop(0)\n",
    "        print(\n",
    "            \"=== {:6.3}% === | frame {:8}/{:8}| fps : {:8.4} | elapsed time : {:8.2}\"\n",
    "            .format(pct_progress, frame_counter, frame_total_num, fps,\n",
    "                    elapsed_time))\n",
    "\n",
    "# END Log\n",
    "pct_progress += 1\n",
    "log_idxes.pop(0)\n",
    "print(\n",
    "    \"=== {:6.3}% === | frame {:8}/{:8}| fps : {:8.4} | elapsed time : {:8.2}\"\n",
    "    .format(pct_progress, frame_counter, frame_total_num, fps,\n",
    "            elapsed_time))\n",
    "video_capture.release()\n",
    "if writeVideo_flag:\n",
    "    out.release()\n",
    "    list_file.close()\n",
    "cv2.destroyAllWindows()"
   ]
  },
  {
   "cell_type": "markdown",
   "metadata": {},
   "source": [
    "## END"
   ]
  }
 ],
 "metadata": {
  "kernelspec": {
   "display_name": "Python 3",
   "language": "python",
   "name": "python3"
  },
  "language_info": {
   "codemirror_mode": {
    "name": "ipython",
    "version": 3
   },
   "file_extension": ".py",
   "mimetype": "text/x-python",
   "name": "python",
   "nbconvert_exporter": "python",
   "pygments_lexer": "ipython3",
   "version": "3.5.2"
  },
  "toc": {
   "base_numbering": 1,
   "nav_menu": {},
   "number_sections": true,
   "sideBar": true,
   "skip_h1_title": true,
   "title_cell": "Table of Contents",
   "title_sidebar": "Contents",
   "toc_cell": true,
   "toc_position": {
    "height": "calc(100% - 180px)",
    "left": "10px",
    "top": "150px",
    "width": "172.2px"
   },
   "toc_section_display": true,
   "toc_window_display": true
  }
 },
 "nbformat": 4,
 "nbformat_minor": 2
}
